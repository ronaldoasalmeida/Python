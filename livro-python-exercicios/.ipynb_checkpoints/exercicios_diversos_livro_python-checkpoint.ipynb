{
 "cells": [
  {
   "cell_type": "code",
   "execution_count": 1,
   "id": "44328b18-baab-46dc-8eae-b037aeabfd0f",
   "metadata": {},
   "outputs": [
    {
     "name": "stdout",
     "output_type": "stream",
     "text": [
      "Digite um número:  9\n",
      "Digite outro número:  12\n",
      "O que você deseja fazer com esses números: somar (1), subtrair (2), dividir (3) ou multiplicar (4)  5\n",
      "Operação inválida; digite um número de 1 a 4!\n"
     ]
    }
   ],
   "source": [
    "# exercício if / elif pág \n",
    "\n",
    "n1 = int(input(\"Digite um número: \"))\n",
    "n2 = int(input(\"Digite outro número: \"))\n",
    "op = str(input(\"O que você deseja fazer com esses números: somar (1), subtrair (2), dividir (3) ou multiplicar (4) \"))\n",
    "soma = n1 + n2\n",
    "subt = n1 - n2\n",
    "div = n1 / n2\n",
    "mult = n1 * n2\n",
    "\n",
    "if op == \"1\":\n",
    "    print(f\"A soma dos números é {soma}\")\n",
    "elif op == \"2\":\n",
    "    print(f\"A subtração dos números é {subt}\")\n",
    "elif op == \"3\":\n",
    "    print(f\"A divisão dos números é {div}\")\n",
    "elif op == \"4\":\n",
    "    print(f\"A multiplicação dos números é {mult}\")\n",
    "else:\n",
    "    print(\"Operação inválida; digite um número de 1 a 4!\")\n",
    "         "
   ]
  },
  {
   "cell_type": "code",
   "execution_count": 2,
   "id": "94d1d432",
   "metadata": {},
   "outputs": [
    {
     "name": "stdin",
     "output_type": "stream",
     "text": [
      "Digite o valor a pagar: 1274\n"
     ]
    },
    {
     "name": "stdout",
     "output_type": "stream",
     "text": [
      "25 cédulas de 50\n",
      "1 cédulas de 20\n",
      "0 cédulas de 10\n",
      "0 cédulas de 5\n",
      "4 cédulas de 1\n"
     ]
    }
   ],
   "source": [
    "# Exemplo pag 92. Exercicio contagem de cédulas. Para entender\n",
    "\n",
    "valor = int(input(\"Digite o valor a pagar:\"))\n",
    "cedulas = 0\n",
    "atual = 50\n",
    "apagar = valor\n",
    "while True:\n",
    "    if atual <= apagar:\n",
    "        apagar -= atual\n",
    "        cedulas += 1\n",
    "    else:\n",
    "        print(f\"{cedulas} cédulas de {atual}\" )\n",
    "        if apagar == 0:\n",
    "            break\n",
    "        if atual == 50:\n",
    "            atual = 20\n",
    "        elif atual == 20:\n",
    "            atual = 10\n",
    "        elif atual == 10:\n",
    "            atual = 5\n",
    "        elif atual == 5:\n",
    "            atual = 1\n",
    "        cedulas = 0\n",
    "# Ainda não entendi essa porra        "
   ]
  }
 ],
 "metadata": {
  "kernelspec": {
   "display_name": "Python 3 (ipykernel)",
   "language": "python",
   "name": "python3"
  },
  "language_info": {
   "codemirror_mode": {
    "name": "ipython",
    "version": 3
   },
   "file_extension": ".py",
   "mimetype": "text/x-python",
   "name": "python",
   "nbconvert_exporter": "python",
   "pygments_lexer": "ipython3",
   "version": "3.9.13"
  },
  "vscode": {
   "interpreter": {
    "hash": "e7370f93d1d0cde622a1f8e1c04877d8463912d04d973331ad4851f04de6915a"
   }
  }
 },
 "nbformat": 4,
 "nbformat_minor": 5
}
